{
 "cells": [
  {
   "cell_type": "code",
   "execution_count": 2,
   "metadata": {},
   "outputs": [],
   "source": [
    "class Tienda_Online:\n",
    "    def __init__(self):\n",
    "        self.inventario=[] #inventario\n",
    "        self.ventas_totales=0.0 #float.Se agregan las ventas\n",
    "        \n",
    "     #Agregar Producto\n",
    "    def agregar_producto(self, nombre, precio, cantidad):#Agregar productos\n",
    "        for producto in self.inventario: \n",
    "            if producto['nombre'] == nombre:\n",
    "            # Si el producto ya existe, se actualiza la cantidad\n",
    "                producto['cantidad'] += cantidad\n",
    "            return\n",
    "        # Agregar si no existe\n",
    "        self.inventario.append({'nombre': nombre, 'precio': precio, 'cantidad': cantidad})\n",
    "        print(f\"Producto {nombre} correctamente agregado\")\n",
    "     \n",
    "     #ver el inventario\n",
    "    def ver_inventario(self):\n",
    "        for producto in self.inventario:\n",
    "            precio_redondeado = round(producto['precio'], 2)\n",
    "            print(f\"Nombre: {producto['nombre']}, Precio: {precio_redondeado}, Cantidad: {producto['cantidad']}\")\n",
    "      \n",
    "     #Buscar producto\n",
    "    def buscar_producto(self, nombre):\n",
    "        for producto in self.inventario:\n",
    "        # Iguala el nombre del producto . (.lower para pasar a minusculas) con el nombre proporcionado. (.lower para pasar a minusculas)\n",
    "            if producto[\"nombre\"].lower() == nombre.lower():\n",
    "        # Si se encuentra una coincidencia imprimir detalles del producto\n",
    "             print(f\"Nombre: {producto['nombre']}, Precio: {producto['precio']}, cantidad: {producto['cantidad']}\")\n",
    "            return\n",
    "        print(f\"Producto {nombre} no está en el inventario.\")\n",
    "        #Actualizar Stock\n",
    "        \n",
    "    def actualizar_stock(self, nombre, cantidad):\n",
    "        # Buscar en el inventario\n",
    "        for producto in self.inventario:\n",
    "            if producto['nombre'].lower() == nombre.lower(): #las dos en minusculas por posibles fallos\n",
    "          # Si el producto existe, actualizamos la cantidad.\n",
    "                producto['cantidad'] += cantidad\n",
    "         #mensaje de actualización\n",
    "                print(f\"Stock de {nombre} ha sido actualizado, la nueva cantidad es: {producto['cantidad']}\")\n",
    "                return\n",
    "        # Mensaje de negacion\n",
    "        print(f\"lo siento, el producto {nombre} No se encuentra en el inventario.\")\n",
    "        \n",
    "        #Eliminar producto\n",
    "    def eliminar_producto(self,nombre):\n",
    "        try: #en el caso que algun usuario cometa errores al responder si se usa el input, para no crear conflictos utilizo try\n",
    "              # se busca el producto en la lista\n",
    "            for producto in self.inventario:\n",
    "                if producto['nombre'].lower() == nombre.lower(): #se usa el lower para no tener fallos de gramática\n",
    "            # Si el producto se encuentra, se elimina\n",
    "                    self.inventario.remove(producto)\n",
    "                    print(f\"Producto {nombre} eliminado.\")\n",
    "                    return\n",
    "        \n",
    "        # Si el producto no esta, se deja mensaje indicandolo\n",
    "            print(f\"Producto {nombre} no se encuentra en el inventario.\")\n",
    "        except:\n",
    "            #si hay errores se muestra un mensaje\n",
    "            print(f\"Error, no se puede eliminar el producto\")\n",
    "            \n",
    "        #Valor total del inventario\n",
    "        \n",
    "    def calcular_valor(self):\n",
    "        # calcular valor\n",
    "        valor_total = 0.0\n",
    "        for producto in self.inventario:\n",
    "            valor_producto = producto['precio'] * producto['cantidad']\n",
    "            valor_total += valor_producto\n",
    "            valor_total = round(valor_total, 2)#para que solo me de dos decimales\n",
    "        # Imprime el valor del inventario\n",
    "        print(f\"El valor total: {valor_total}\")"
   ]
  },
  {
   "cell_type": "code",
   "execution_count": 3,
   "metadata": {},
   "outputs": [],
   "source": [
    "#crear una instancia de la clase Tienda_Online\n",
    "tienda = Tienda_Online()"
   ]
  },
  {
   "cell_type": "code",
   "execution_count": 4,
   "metadata": {},
   "outputs": [
    {
     "name": "stdout",
     "output_type": "stream",
     "text": [
      "Producto camiseta correctamente agregado\n"
     ]
    }
   ],
   "source": [
    "#Agregar productos\n",
    "tienda.agregar_producto(\"camiseta\",30.99, 30)\n",
    "tienda.agregar_producto(\"Pantalones\",27.50, 12)"
   ]
  },
  {
   "cell_type": "code",
   "execution_count": 5,
   "metadata": {},
   "outputs": [
    {
     "name": "stdout",
     "output_type": "stream",
     "text": [
      "Nombre: camiseta, Precio: 30.99, Cantidad: 30\n"
     ]
    }
   ],
   "source": [
    "#Ver el inventario\n",
    "tienda.ver_inventario()"
   ]
  },
  {
   "cell_type": "code",
   "execution_count": 6,
   "metadata": {},
   "outputs": [
    {
     "name": "stdout",
     "output_type": "stream",
     "text": [
      "Nombre: camiseta, Precio: 30.99, cantidad: 30\n"
     ]
    }
   ],
   "source": [
    "#Buscar en el inventario\n",
    "tienda.buscar_producto('Camiseta')  \n",
    "tienda.buscar_producto('Pantalones')   "
   ]
  },
  {
   "cell_type": "code",
   "execution_count": 7,
   "metadata": {},
   "outputs": [
    {
     "name": "stdout",
     "output_type": "stream",
     "text": [
      "lo siento, el producto Gafas No se encuentra en el inventario.\n"
     ]
    }
   ],
   "source": [
    "#Actualizar el inventario\n",
    "tienda.actualizar_stock('Gafas', 30) #no se encuentra en el inventario"
   ]
  },
  {
   "cell_type": "code",
   "execution_count": 8,
   "metadata": {},
   "outputs": [
    {
     "name": "stdout",
     "output_type": "stream",
     "text": [
      "lo siento, el producto Pantalones No se encuentra en el inventario.\n"
     ]
    }
   ],
   "source": [
    "#Actualizar el inventario\n",
    "tienda.actualizar_stock('Pantalones',23) #se encuentra en el inventario"
   ]
  },
  {
   "cell_type": "code",
   "execution_count": 9,
   "metadata": {},
   "outputs": [
    {
     "name": "stdout",
     "output_type": "stream",
     "text": [
      "Producto botas no se encuentra en el inventario.\n"
     ]
    }
   ],
   "source": [
    "# eliminar un producto \n",
    "tienda.eliminar_producto('botas') #Producto no existente"
   ]
  },
  {
   "cell_type": "code",
   "execution_count": 10,
   "metadata": {},
   "outputs": [
    {
     "name": "stdout",
     "output_type": "stream",
     "text": [
      "Producto Pantalon no se encuentra en el inventario.\n"
     ]
    }
   ],
   "source": [
    "#Eliminar producto\n",
    "tienda.eliminar_producto('Pantalon') #Producto  existente"
   ]
  },
  {
   "cell_type": "code",
   "execution_count": 11,
   "metadata": {},
   "outputs": [
    {
     "name": "stdout",
     "output_type": "stream",
     "text": [
      "El valor total: 929.7\n"
     ]
    }
   ],
   "source": [
    "#Total del inventario\n",
    "tienda.calcular_valor()"
   ]
  }
 ],
 "metadata": {
  "kernelspec": {
   "display_name": "base",
   "language": "python",
   "name": "python3"
  },
  "language_info": {
   "codemirror_mode": {
    "name": "ipython",
    "version": 3
   },
   "file_extension": ".py",
   "mimetype": "text/x-python",
   "name": "python",
   "nbconvert_exporter": "python",
   "pygments_lexer": "ipython3",
   "version": "3.12.7"
  }
 },
 "nbformat": 4,
 "nbformat_minor": 2
}
